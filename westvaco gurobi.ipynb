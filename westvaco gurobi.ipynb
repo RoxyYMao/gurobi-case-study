{
 "cells": [
  {
   "cell_type": "markdown",
   "metadata": {},
   "source": [
    "# Optimized Motor Carrier Selection at WestVaco\n",
    "\n",
    "#### Yu Mao \n",
    "#### October 20, 2020"
   ]
  },
  {
   "cell_type": "markdown",
   "metadata": {},
   "source": [
    "## Introduction"
   ]
  },
  {
   "cell_type": "markdown",
   "metadata": {},
   "source": [
    "In this case study, we are helping carriers from the paper mill to minimize the total shipping cost to 12 destinations that they serve. There are multiple constraints in order to find the optimized function and different cities have different stops, trips and miles, and each carriers have different truckloads in the transportation. Thus, our goal in this study is to optimize the lowest possible cost to help carriers with the necessary truckloads requirements. \n",
    "\n",
    "Yu Mao"
   ]
  },
  {
   "cell_type": "markdown",
   "metadata": {},
   "source": [
    "![title](img/image1.png/)"
   ]
  },
  {
   "cell_type": "code",
   "execution_count": 9,
   "metadata": {},
   "outputs": [
    {
     "data": {
      "image/png": "[encoded data removed]",
      "text/plain": [
       "<IPython.core.display.Image object>"
      ]
     },
     "execution_count": 9,
     "metadata": {},
     "output_type": "execute_result"
    }
   ],
   "source": [
    "from IPython.display import Image\n",
    "Image(filename=\"img/image1.png\")"
   ]
  },
  {
   "cell_type": "markdown",
   "metadata": {},
   "source": [
    "## Model "
   ]
  },
  {
   "cell_type": "code",
   "execution_count": 57,
   "metadata": {},
   "outputs": [],
   "source": [
    "from gurobipy import *\n",
    "m = Model(\"Motor Carrier Selection at WestVaco\")"
   ]
  },
  {
   "cell_type": "markdown",
   "metadata": {},
   "source": [
    "### Data"
   ]
  },
  {
   "cell_type": "code",
   "execution_count": 58,
   "metadata": {},
   "outputs": [],
   "source": [
    "Destination = 12\n",
    "Trips = [4, 1, 3, 5, 1, 1, 1, 1, 2, 1, 5, 7]\n",
    "AvailablePulls = [4, 8, 7, 7, 3, 4]\n",
    "Commitment = [1, 7, 6, 0, 0, 4]"
   ]
  },
  {
   "cell_type": "code",
   "execution_count": 59,
   "metadata": {},
   "outputs": [
    {
     "data": {
      "text/html": [
       "<div>\n",
       "<style scoped>\n",
       "    .dataframe tbody tr th:only-of-type {\n",
       "        vertical-align: middle;\n",
       "    }\n",
       "\n",
       "    .dataframe tbody tr th {\n",
       "        vertical-align: top;\n",
       "    }\n",
       "\n",
       "    .dataframe thead th {\n",
       "        text-align: right;\n",
       "    }\n",
       "</style>\n",
       "<table border=\"1\" class=\"dataframe\">\n",
       "  <thead>\n",
       "    <tr style=\"text-align: right;\">\n",
       "      <th></th>\n",
       "      <th>ABCT</th>\n",
       "      <th>IRST</th>\n",
       "      <th>LAST</th>\n",
       "      <th>MRST</th>\n",
       "      <th>NEST</th>\n",
       "      <th>PSST</th>\n",
       "    </tr>\n",
       "  </thead>\n",
       "  <tbody>\n",
       "    <tr>\n",
       "      <th>0</th>\n",
       "      <td>99999.0</td>\n",
       "      <td>538.56</td>\n",
       "      <td>703.80</td>\n",
       "      <td>532.44</td>\n",
       "      <td>581.40</td>\n",
       "      <td>642.60</td>\n",
       "    </tr>\n",
       "    <tr>\n",
       "      <th>1</th>\n",
       "      <td>99999.0</td>\n",
       "      <td>947.16</td>\n",
       "      <td>927.24</td>\n",
       "      <td>955.68</td>\n",
       "      <td>976.20</td>\n",
       "      <td>933.36</td>\n",
       "    </tr>\n",
       "    <tr>\n",
       "      <th>2</th>\n",
       "      <td>99999.0</td>\n",
       "      <td>649.80</td>\n",
       "      <td>350.00</td>\n",
       "      <td>324.90</td>\n",
       "      <td>350.00</td>\n",
       "      <td>380.00</td>\n",
       "    </tr>\n",
       "    <tr>\n",
       "      <th>3</th>\n",
       "      <td>350.0</td>\n",
       "      <td>400.00</td>\n",
       "      <td>478.75</td>\n",
       "      <td>367.68</td>\n",
       "      <td>363.85</td>\n",
       "      <td>425.13</td>\n",
       "    </tr>\n",
       "    <tr>\n",
       "      <th>4</th>\n",
       "      <td>99999.0</td>\n",
       "      <td>2600.40</td>\n",
       "      <td>2764.81</td>\n",
       "      <td>99999.00</td>\n",
       "      <td>3163.00</td>\n",
       "      <td>99999.00</td>\n",
       "    </tr>\n",
       "    <tr>\n",
       "      <th>5</th>\n",
       "      <td>99999.0</td>\n",
       "      <td>527.67</td>\n",
       "      <td>690.69</td>\n",
       "      <td>523.38</td>\n",
       "      <td>570.57</td>\n",
       "      <td>630.63</td>\n",
       "    </tr>\n",
       "    <tr>\n",
       "      <th>6</th>\n",
       "      <td>894.0</td>\n",
       "      <td>903.00</td>\n",
       "      <td>1284.00</td>\n",
       "      <td>897.00</td>\n",
       "      <td>996.00</td>\n",
       "      <td>996.00</td>\n",
       "    </tr>\n",
       "    <tr>\n",
       "      <th>7</th>\n",
       "      <td>99999.0</td>\n",
       "      <td>650.08</td>\n",
       "      <td>350.00</td>\n",
       "      <td>325.04</td>\n",
       "      <td>350.00</td>\n",
       "      <td>349.52</td>\n",
       "    </tr>\n",
       "    <tr>\n",
       "      <th>8</th>\n",
       "      <td>99999.0</td>\n",
       "      <td>3536.55</td>\n",
       "      <td>99999.00</td>\n",
       "      <td>2926.80</td>\n",
       "      <td>99999.00</td>\n",
       "      <td>99999.00</td>\n",
       "    </tr>\n",
       "    <tr>\n",
       "      <th>9</th>\n",
       "      <td>99999.0</td>\n",
       "      <td>650.10</td>\n",
       "      <td>532.80</td>\n",
       "      <td>528.45</td>\n",
       "      <td>415.65</td>\n",
       "      <td>674.80</td>\n",
       "    </tr>\n",
       "    <tr>\n",
       "      <th>10</th>\n",
       "      <td>495.9</td>\n",
       "      <td>495.90</td>\n",
       "      <td>712.50</td>\n",
       "      <td>495.90</td>\n",
       "      <td>513.00</td>\n",
       "      <td>746.70</td>\n",
       "    </tr>\n",
       "    <tr>\n",
       "      <th>11</th>\n",
       "      <td>99999.0</td>\n",
       "      <td>651.24</td>\n",
       "      <td>498.96</td>\n",
       "      <td>495.72</td>\n",
       "      <td>414.72</td>\n",
       "      <td>631.80</td>\n",
       "    </tr>\n",
       "  </tbody>\n",
       "</table>\n",
       "</div>"
      ],
      "text/plain": [
       "       ABCT     IRST      LAST      MRST      NEST      PSST\n",
       "0   99999.0   538.56    703.80    532.44    581.40    642.60\n",
       "1   99999.0   947.16    927.24    955.68    976.20    933.36\n",
       "2   99999.0   649.80    350.00    324.90    350.00    380.00\n",
       "3     350.0   400.00    478.75    367.68    363.85    425.13\n",
       "4   99999.0  2600.40   2764.81  99999.00   3163.00  99999.00\n",
       "5   99999.0   527.67    690.69    523.38    570.57    630.63\n",
       "6     894.0   903.00   1284.00    897.00    996.00    996.00\n",
       "7   99999.0   650.08    350.00    325.04    350.00    349.52\n",
       "8   99999.0  3536.55  99999.00   2926.80  99999.00  99999.00\n",
       "9   99999.0   650.10    532.80    528.45    415.65    674.80\n",
       "10    495.9   495.90    712.50    495.90    513.00    746.70\n",
       "11  99999.0   651.24    498.96    495.72    414.72    631.80"
      ]
     },
     "execution_count": 59,
     "metadata": {},
     "output_type": "execute_result"
    }
   ],
   "source": [
    "import pandas as pd\n",
    "Carrier = pd.read_excel('Mao-Westvaco.xlsx', sheet_name = 'Carrier')\n",
    "Carrier"
   ]
  },
  {
   "cell_type": "markdown",
   "metadata": {},
   "source": [
    "### Decision Variables"
   ]
  },
  {
   "cell_type": "code",
   "execution_count": 60,
   "metadata": {},
   "outputs": [],
   "source": [
    "ABCT = []\n",
    "IRST = []\n",
    "LAST = []\n",
    "MRST = []\n",
    "NEST = []\n",
    "PSST = []\n",
    "\n",
    "for i in range(Destination):\n",
    "    ABCT.append('Carrier Selection {} ABCT'.format(i))\n",
    "    IRST.append('Carrier Selection {} IRST'.format(i))\n",
    "    LAST.append('Carrier Selection {} LAST'.format(i))\n",
    "    MRST.append('Carrier Selection {} MRST'.format(i))\n",
    "    NEST.append('Carrier Selection {} NEST'.format(i))\n",
    "    PSST.append('Carrier Selection {} PSST'.format(i))\n",
    "\n",
    "A = []\n",
    "B = []\n",
    "C = []\n",
    "D = []\n",
    "E = []\n",
    "F = []\n",
    "\n",
    "for i in range(Destination):\n",
    "    A.append(m.addVar(vtype = GRB.INTEGER, lb=0.0, name = ABCT[i]))\n",
    "    B.append(m.addVar(vtype = GRB.INTEGER, lb=0.0, name = IRST[i]))\n",
    "    C.append(m.addVar(vtype = GRB.INTEGER, lb=0.0, name = LAST[i]))\n",
    "    D.append(m.addVar(vtype = GRB.INTEGER, lb=0.0, name = MRST[i]))\n",
    "    E.append(m.addVar(vtype = GRB.INTEGER, lb=0.0, name = NEST[i]))\n",
    "    F.append(m.addVar(vtype = GRB.INTEGER, lb=0.0, name = PSST[i]))\n",
    "\n",
    "m.update()"
   ]
  },
  {
   "cell_type": "markdown",
   "metadata": {},
   "source": [
    "### Objective"
   ]
  },
  {
   "cell_type": "code",
   "execution_count": 61,
   "metadata": {},
   "outputs": [],
   "source": [
    "TotalCost = [quicksum(Carrier.ABCT.values*A), quicksum(Carrier.IRST.values*B), quicksum(Carrier.LAST.values*C),\n",
    "             quicksum(Carrier.MRST.values*D), quicksum(Carrier.NEST.values*E), quicksum(Carrier.PSST.values*F)]\n",
    "\n",
    "m.setObjective(quicksum(TotalCost),GRB.MINIMIZE)\n",
    "\n",
    "m.update()"
   ]
  },
  {
   "cell_type": "code",
   "execution_count": 62,
   "metadata": {},
   "outputs": [
    {
     "data": {
      "text/plain": [
       "[<gurobi.LinExpr: 99999.0 Carrier Selection 0 ABCT + 99999.0 Carrier Selection 1 ABCT + 99999.0 Carrier Selection 2 ABCT + 350.0 Carrier Selection 3 ABCT + 99999.0 Carrier Selection 4 ABCT + 99999.0 Carrier Selection 5 ABCT + 894.0 Carrier Selection 6 ABCT + 99999.0 Carrier Selection 7 ABCT + 99999.0 Carrier Selection 8 ABCT + 99999.0 Carrier Selection 9 ABCT + 495.9 Carrier Selection 10 ABCT + 99999.0 Carrier Selection 11 ABCT>,\n",
       " <gurobi.LinExpr: 538.5600000000001 Carrier Selection 0 IRST + 947.16 Carrier Selection 1 IRST + 649.8 Carrier Selection 2 IRST + 400.0 Carrier Selection 3 IRST + 2600.4 Carrier Selection 4 IRST + 527.67 Carrier Selection 5 IRST + 902.9999999999999 Carrier Selection 6 IRST + 650.08 Carrier Selection 7 IRST + 3536.5499999999997 Carrier Selection 8 IRST + 650.1 Carrier Selection 9 IRST + 495.9 Carrier Selection 10 IRST + 651.2399999999999 Carrier Selection 11 IRST>,\n",
       " <gurobi.LinExpr: 703.8 Carrier Selection 0 LAST + 927.24 Carrier Selection 1 LAST + 350.0 Carrier Selection 2 LAST + 478.75 Carrier Selection 3 LAST + 2764.81 Carrier Selection 4 LAST + 690.69 Carrier Selection 5 LAST + 1284.0 Carrier Selection 6 LAST + 350.0 Carrier Selection 7 LAST + 99999.0 Carrier Selection 8 LAST + 532.8 Carrier Selection 9 LAST + 712.5 Carrier Selection 10 LAST + 498.96000000000004 Carrier Selection 11 LAST>,\n",
       " <gurobi.LinExpr: 532.4399999999999 Carrier Selection 0 MRST + 955.68 Carrier Selection 1 MRST + 324.9 Carrier Selection 2 MRST + 367.68 Carrier Selection 3 MRST + 99999.0 Carrier Selection 4 MRST + 523.38 Carrier Selection 5 MRST + 897.0 Carrier Selection 6 MRST + 325.04 Carrier Selection 7 MRST + 2926.7999999999997 Carrier Selection 8 MRST + 528.45 Carrier Selection 9 MRST + 495.9 Carrier Selection 10 MRST + 495.72 Carrier Selection 11 MRST>,\n",
       " <gurobi.LinExpr: 581.4 Carrier Selection 0 NEST + 976.2 Carrier Selection 1 NEST + 350.0 Carrier Selection 2 NEST + 363.84999999999997 Carrier Selection 3 NEST + 3163.0 Carrier Selection 4 NEST + 570.57 Carrier Selection 5 NEST + 996.0 Carrier Selection 6 NEST + 350.0 Carrier Selection 7 NEST + 99999.0 Carrier Selection 8 NEST + 415.65000000000003 Carrier Selection 9 NEST + 513.0 Carrier Selection 10 NEST + 414.72 Carrier Selection 11 NEST>,\n",
       " <gurobi.LinExpr: 642.6 Carrier Selection 0 PSST + 933.36 Carrier Selection 1 PSST + 380.0 Carrier Selection 2 PSST + 425.13000000000005 Carrier Selection 3 PSST + 99999.0 Carrier Selection 4 PSST + 630.63 Carrier Selection 5 PSST + 996.0 Carrier Selection 6 PSST + 349.52 Carrier Selection 7 PSST + 99999.0 Carrier Selection 8 PSST + 674.8 Carrier Selection 9 PSST + 746.7 Carrier Selection 10 PSST + 631.8 Carrier Selection 11 PSST>]"
      ]
     },
     "execution_count": 62,
     "metadata": {},
     "output_type": "execute_result"
    }
   ],
   "source": [
    "TotalCost"
   ]
  },
  {
   "cell_type": "markdown",
   "metadata": {},
   "source": [
    "### Constraints"
   ]
  },
  {
   "cell_type": "markdown",
   "metadata": {},
   "source": [
    "![title](img/image2.png)"
   ]
  },
  {
   "cell_type": "code",
   "execution_count": 63,
   "metadata": {},
   "outputs": [],
   "source": [
    "m.remove(m.getConstrs())\n",
    "\n",
    "TotalAssigned = [A[i]+B[i]+C[i]+D[i]+E[i]+F[i] for i in range(Destination)]\n",
    "\n",
    "SumABCT = quicksum(A)\n",
    "SumIRST = quicksum(B)\n",
    "SumLAST = quicksum(C)\n",
    "SumMRST = quicksum(D)\n",
    "SumNEST = quicksum(E)\n",
    "SumPSST = quicksum(F)\n",
    "\n",
    "for i in range(Destination):\n",
    "    m.addConstr(TotalAssigned[i], GRB.EQUAL, Trips[i], \"Total\")"
   ]
  },
  {
   "cell_type": "markdown",
   "metadata": {},
   "source": [
    "![title](img/image3.png)"
   ]
  },
  {
   "cell_type": "code",
   "execution_count": 64,
   "metadata": {},
   "outputs": [
    {
     "data": {
      "text/plain": [
       "<gurobi.Constr *Awaiting Model Update*>"
      ]
     },
     "execution_count": 64,
     "metadata": {},
     "output_type": "execute_result"
    }
   ],
   "source": [
    "m.addConstr(SumABCT, GRB.LESS_EQUAL, AvailablePulls[0], \"Assignment\")\n",
    "m.addConstr(SumIRST, GRB.LESS_EQUAL, AvailablePulls[1], \"Assignment\")\n",
    "m.addConstr(SumLAST, GRB.LESS_EQUAL, AvailablePulls[2], \"Assignment\")\n",
    "m.addConstr(SumMRST, GRB.LESS_EQUAL, AvailablePulls[3], \"Assignment\")\n",
    "m.addConstr(SumNEST, GRB.LESS_EQUAL, AvailablePulls[4], \"Assignment\")\n",
    "m.addConstr(SumPSST, GRB.LESS_EQUAL, AvailablePulls[5], \"Assignment\")"
   ]
  },
  {
   "cell_type": "markdown",
   "metadata": {},
   "source": [
    "![title](img/image4.png)"
   ]
  },
  {
   "cell_type": "code",
   "execution_count": 65,
   "metadata": {},
   "outputs": [],
   "source": [
    "m.addConstr(SumABCT, GRB.GREATER_EQUAL, Commitment[0], \"Assignment\")\n",
    "m.addConstr(SumIRST, GRB.GREATER_EQUAL, Commitment[1], \"Assignment\")\n",
    "m.addConstr(SumLAST, GRB.GREATER_EQUAL, Commitment[2], \"Assignment\")\n",
    "m.addConstr(SumMRST, GRB.GREATER_EQUAL, Commitment[3], \"Assignment\")\n",
    "m.addConstr(SumNEST, GRB.GREATER_EQUAL, Commitment[4], \"Assignment\")\n",
    "m.addConstr(SumPSST, GRB.GREATER_EQUAL, Commitment[5], \"Assignment\")\n",
    "\n",
    "m.update()"
   ]
  },
  {
   "cell_type": "markdown",
   "metadata": {},
   "source": [
    "### Optimization"
   ]
  },
  {
   "cell_type": "code",
   "execution_count": 66,
   "metadata": {},
   "outputs": [
    {
     "name": "stdout",
     "output_type": "stream",
     "text": [
      "Gurobi Optimizer version 9.0.3 build v9.0.3rc0 (win64)\n",
      "Optimize a model with 24 rows, 72 columns and 216 nonzeros\n",
      "Model fingerprint: 0x0a314918\n",
      "Variable types: 0 continuous, 72 integer (0 binary)\n",
      "Coefficient statistics:\n",
      "  Matrix range     [1e+00, 1e+00]\n",
      "  Objective range  [3e+02, 1e+05]\n",
      "  Bounds range     [0e+00, 0e+00]\n",
      "  RHS range        [1e+00, 8e+00]\n",
      "Found heuristic solution: objective 422096.92000\n",
      "Presolve removed 3 rows and 0 columns\n",
      "Presolve time: 0.00s\n",
      "Presolved: 21 rows, 72 columns, 180 nonzeros\n",
      "Variable types: 0 continuous, 72 integer (36 binary)\n",
      "\n",
      "Root relaxation: objective 2.239438e+04, 26 iterations, 0.00 seconds\n",
      "\n",
      "    Nodes    |    Current Node    |     Objective Bounds      |     Work\n",
      " Expl Unexpl |  Obj  Depth IntInf | Incumbent    BestBd   Gap | It/Node Time\n",
      "\n",
      "*    0     0               0    22394.380000 22394.3800  0.00%     -    0s\n",
      "\n",
      "Explored 0 nodes (26 simplex iterations) in 0.01 seconds\n",
      "Thread count was 16 (of 16 available processors)\n",
      "\n",
      "Solution count 2: 22394.4 422097 \n",
      "\n",
      "Optimal solution found (tolerance 1.00e-04)\n",
      "Best objective 2.239438000000e+04, best bound 2.239438000000e+04, gap 0.0000%\n"
     ]
    }
   ],
   "source": [
    "m.optimize()"
   ]
  },
  {
   "cell_type": "markdown",
   "metadata": {},
   "source": [
    "### Results"
   ]
  },
  {
   "cell_type": "code",
   "execution_count": 67,
   "metadata": {},
   "outputs": [
    {
     "data": {
      "text/html": [
       "<div>\n",
       "<style scoped>\n",
       "    .dataframe tbody tr th:only-of-type {\n",
       "        vertical-align: middle;\n",
       "    }\n",
       "\n",
       "    .dataframe tbody tr th {\n",
       "        vertical-align: top;\n",
       "    }\n",
       "\n",
       "    .dataframe thead th {\n",
       "        text-align: right;\n",
       "    }\n",
       "</style>\n",
       "<table border=\"1\" class=\"dataframe\">\n",
       "  <thead>\n",
       "    <tr style=\"text-align: right;\">\n",
       "      <th></th>\n",
       "      <th>Destination</th>\n",
       "      <th>ABCT</th>\n",
       "      <th>IRST</th>\n",
       "      <th>LAST</th>\n",
       "      <th>MRST</th>\n",
       "      <th>NEST</th>\n",
       "      <th>PSST</th>\n",
       "    </tr>\n",
       "  </thead>\n",
       "  <tbody>\n",
       "    <tr>\n",
       "      <th>0</th>\n",
       "      <td>ATLANTA</td>\n",
       "      <td>0</td>\n",
       "      <td>0</td>\n",
       "      <td>0</td>\n",
       "      <td>4</td>\n",
       "      <td>0</td>\n",
       "      <td>0</td>\n",
       "    </tr>\n",
       "    <tr>\n",
       "      <th>1</th>\n",
       "      <td>EVERETT</td>\n",
       "      <td>0</td>\n",
       "      <td>0</td>\n",
       "      <td>0</td>\n",
       "      <td>0</td>\n",
       "      <td>0</td>\n",
       "      <td>1</td>\n",
       "    </tr>\n",
       "    <tr>\n",
       "      <th>2</th>\n",
       "      <td>EPHRATA</td>\n",
       "      <td>0</td>\n",
       "      <td>0</td>\n",
       "      <td>1</td>\n",
       "      <td>0</td>\n",
       "      <td>0</td>\n",
       "      <td>2</td>\n",
       "    </tr>\n",
       "    <tr>\n",
       "      <th>3</th>\n",
       "      <td>RIVERVIEW</td>\n",
       "      <td>4</td>\n",
       "      <td>0</td>\n",
       "      <td>0</td>\n",
       "      <td>1</td>\n",
       "      <td>0</td>\n",
       "      <td>0</td>\n",
       "    </tr>\n",
       "    <tr>\n",
       "      <th>4</th>\n",
       "      <td>CARSON</td>\n",
       "      <td>0</td>\n",
       "      <td>1</td>\n",
       "      <td>0</td>\n",
       "      <td>0</td>\n",
       "      <td>0</td>\n",
       "      <td>0</td>\n",
       "    </tr>\n",
       "    <tr>\n",
       "      <th>5</th>\n",
       "      <td>CHAMBLEE</td>\n",
       "      <td>0</td>\n",
       "      <td>1</td>\n",
       "      <td>0</td>\n",
       "      <td>0</td>\n",
       "      <td>0</td>\n",
       "      <td>0</td>\n",
       "    </tr>\n",
       "    <tr>\n",
       "      <th>6</th>\n",
       "      <td>ROSEVILLE</td>\n",
       "      <td>0</td>\n",
       "      <td>1</td>\n",
       "      <td>0</td>\n",
       "      <td>0</td>\n",
       "      <td>0</td>\n",
       "      <td>0</td>\n",
       "    </tr>\n",
       "    <tr>\n",
       "      <th>7</th>\n",
       "      <td>HANOVER</td>\n",
       "      <td>0</td>\n",
       "      <td>0</td>\n",
       "      <td>0</td>\n",
       "      <td>0</td>\n",
       "      <td>0</td>\n",
       "      <td>1</td>\n",
       "    </tr>\n",
       "    <tr>\n",
       "      <th>8</th>\n",
       "      <td>SPARKS</td>\n",
       "      <td>0</td>\n",
       "      <td>0</td>\n",
       "      <td>0</td>\n",
       "      <td>2</td>\n",
       "      <td>0</td>\n",
       "      <td>0</td>\n",
       "    </tr>\n",
       "    <tr>\n",
       "      <th>9</th>\n",
       "      <td>PARSIPPANY</td>\n",
       "      <td>0</td>\n",
       "      <td>0</td>\n",
       "      <td>0</td>\n",
       "      <td>0</td>\n",
       "      <td>1</td>\n",
       "      <td>0</td>\n",
       "    </tr>\n",
       "    <tr>\n",
       "      <th>10</th>\n",
       "      <td>EFFINGHAM</td>\n",
       "      <td>0</td>\n",
       "      <td>5</td>\n",
       "      <td>0</td>\n",
       "      <td>0</td>\n",
       "      <td>0</td>\n",
       "      <td>0</td>\n",
       "    </tr>\n",
       "    <tr>\n",
       "      <th>11</th>\n",
       "      <td>KEARNY</td>\n",
       "      <td>0</td>\n",
       "      <td>0</td>\n",
       "      <td>5</td>\n",
       "      <td>0</td>\n",
       "      <td>2</td>\n",
       "      <td>0</td>\n",
       "    </tr>\n",
       "  </tbody>\n",
       "</table>\n",
       "</div>"
      ],
      "text/plain": [
       "   Destination  ABCT  IRST  LAST  MRST  NEST  PSST\n",
       "0      ATLANTA     0     0     0     4     0     0\n",
       "1      EVERETT     0     0     0     0     0     1\n",
       "2      EPHRATA     0     0     1     0     0     2\n",
       "3    RIVERVIEW     4     0     0     1     0     0\n",
       "4       CARSON     0     1     0     0     0     0\n",
       "5     CHAMBLEE     0     1     0     0     0     0\n",
       "6    ROSEVILLE     0     1     0     0     0     0\n",
       "7      HANOVER     0     0     0     0     0     1\n",
       "8       SPARKS     0     0     0     2     0     0\n",
       "9   PARSIPPANY     0     0     0     0     1     0\n",
       "10   EFFINGHAM     0     5     0     0     0     0\n",
       "11      KEARNY     0     0     5     0     2     0"
      ]
     },
     "execution_count": 67,
     "metadata": {},
     "output_type": "execute_result"
    }
   ],
   "source": [
    "import pandas as pd\n",
    "Result = pd.read_excel('Mao-Westvaco.xlsx', sheet_name = 'Result')\n",
    "Result"
   ]
  },
  {
   "cell_type": "code",
   "execution_count": 74,
   "metadata": {},
   "outputs": [
    {
     "name": "stdout",
     "output_type": "stream",
     "text": [
      "The minimum total cost for the optimal solution is $22,394.38\n",
      "\n"
     ]
    }
   ],
   "source": [
    "print(f\"The minimum total cost for the optimal solution is ${m.objVal:,.2f}\\n\")"
   ]
  },
  {
   "cell_type": "markdown",
   "metadata": {},
   "source": [
    "## Recommendation"
   ]
  },
  {
   "cell_type": "markdown",
   "metadata": {},
   "source": [
    "After the analysis of the optimization model, I would recommend ABCT to make 4 trips to Riverview; IRST carriers should make 1 trip to Carson, 1 trip to Chamblee, 1 trip to Roseville, and 5 trips to Effingham. Also, LAST carriers should make 1 trip to Ephrata, and 5 trips to Kearny; MRST should make 4 trips to Atlanta, 1 trip to Riverview, 2 trips to Sparks. Furthermore, NEST carriers should make 1 trip to Parsippany, and 2 trips in Kearny. Last but not least, PSST carrier is supposed to make 1 trip to Everett, 2 trips to Ephrata, and 1 trip to Hanover. Each cities end up with at least one trip from the carriers and this gives the most optimized solution, which ends up beings $22394.38. "
   ]
  },
  {
   "cell_type": "markdown",
   "metadata": {},
   "source": [
    "## Approach and Challenges"
   ]
  },
  {
   "cell_type": "markdown",
   "metadata": {},
   "source": [
    "There were several challenges during my analysis in the optimization model. I was not sure about the objective fuctions at first due to the uncertainty of the total cost function. Afterwards, I was trying to use for loop for the constraints, but ended up listing all the constraints to have more clearity. However, this case study is definitely doable and requires a lot of understandings in order to find the most optimal way to code. "
   ]
  },
  {
   "cell_type": "code",
   "execution_count": 1,
   "metadata": {},
   "outputs": [
    {
     "ename": "SyntaxError",
     "evalue": "invalid syntax (<ipython-input-1-5c06f3e764ab>, line 1)",
     "output_type": "error",
     "traceback": [
      "\u001b[1;36m  File \u001b[1;32m\"<ipython-input-1-5c06f3e764ab>\"\u001b[1;36m, line \u001b[1;32m1\u001b[0m\n\u001b[1;33m    git remote add origin https://github.com/RoxyYMao/gurobi-case-study.git\u001b[0m\n\u001b[1;37m             ^\u001b[0m\n\u001b[1;31mSyntaxError\u001b[0m\u001b[1;31m:\u001b[0m invalid syntax\n"
     ]
    }
   ],
   "source": [
    "git remote add origin https://github.com/RoxyYMao/gurobi-case-study.git\n",
    "git branch -M main\n",
    "git push -u origin main"
   ]
  },
  {
   "cell_type": "markdown",
   "metadata": {},
   "source": [
    "<br><br><br>\n",
    "<span style=\"font-size:10px\"> Yu Mao - 2020-Oct-20<-span>"
   ]
  }
 ],
 "metadata": {
  "kernelspec": {
   "display_name": "Python 3",
   "language": "python",
   "name": "python3"
  },
  "language_info": {
   "codemirror_mode": {
    "name": "ipython",
    "version": 3
   },
   "file_extension": ".py",
   "mimetype": "text/x-python",
   "name": "python",
   "nbconvert_exporter": "python",
   "pygments_lexer": "ipython3",
   "version": "3.7.7"
  }
 },
 "nbformat": 4,
 "nbformat_minor": 4
}
